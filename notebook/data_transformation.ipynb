{
 "cells": [
  {
   "cell_type": "code",
   "execution_count": 1,
   "metadata": {},
   "outputs": [],
   "source": [
    "import os "
   ]
  },
  {
   "cell_type": "code",
   "execution_count": 2,
   "metadata": {},
   "outputs": [
    {
     "data": {
      "text/plain": [
       "'d:\\\\Red_Wine_project\\\\notebook'"
      ]
     },
     "execution_count": 2,
     "metadata": {},
     "output_type": "execute_result"
    }
   ],
   "source": [
    "%pwd"
   ]
  },
  {
   "cell_type": "code",
   "execution_count": 3,
   "metadata": {},
   "outputs": [],
   "source": [
    "os.chdir('../')"
   ]
  },
  {
   "cell_type": "code",
   "execution_count": 4,
   "metadata": {},
   "outputs": [
    {
     "data": {
      "text/plain": [
       "'d:\\\\Red_Wine_project'"
      ]
     },
     "execution_count": 4,
     "metadata": {},
     "output_type": "execute_result"
    }
   ],
   "source": [
    "%pwd"
   ]
  },
  {
   "cell_type": "code",
   "execution_count": 6,
   "metadata": {},
   "outputs": [],
   "source": [
    "from dataclasses import dataclass\n",
    "from pathlib import Path"
   ]
  },
  {
   "cell_type": "code",
   "execution_count": 7,
   "metadata": {},
   "outputs": [],
   "source": [
    "@dataclass(frozen=True)\n",
    "class DataTransformationConfig:\n",
    "     root_dir:Path \n",
    "     data_path: Path"
   ]
  },
  {
   "cell_type": "code",
   "execution_count": 8,
   "metadata": {},
   "outputs": [],
   "source": [
    "from src.constants import *\n",
    "from src.utils.common import read_yaml,create_directories"
   ]
  },
  {
   "cell_type": "code",
   "execution_count": 27,
   "metadata": {},
   "outputs": [],
   "source": [
    "class ConfrigurationManager:\n",
    "     def __init__(self,\n",
    "                  config_filepath=CONFIG_PATH,\n",
    "                  params_filepath=PARAMS_PATH,\n",
    "                  schema_filepath=SCHEMA_PATH\n",
    "                  ):\n",
    "          self.config=read_yaml(config_filepath)\n",
    "          self.params=read_yaml(params_filepath)\n",
    "          self.schema=read_yaml(schema_filepath)\n",
    "          create_directories([Path(self.config['artifacts_root'])])\n",
    "          \n",
    "     def get_data_tansformation_config(self)->DataTransformationConfig:\n",
    "          config=self.config.data_transformation\n",
    "          create_directories([Path(config['root_dir'])])\n",
    "          data_transformation_config=DataTransformationConfig(\n",
    "               root_dir=config.root_dir,\n",
    "               data_path=config.data_path\n",
    "          )\n",
    "          return data_transformation_config"
   ]
  },
  {
   "cell_type": "code",
   "execution_count": 28,
   "metadata": {},
   "outputs": [],
   "source": [
    "import os \n",
    "import pandas as pd\n",
    "from sklearn.model_selection import train_test_split \n",
    "from src.logger.logging import logging"
   ]
  },
  {
   "cell_type": "code",
   "execution_count": 31,
   "metadata": {},
   "outputs": [],
   "source": [
    "class DataTransformation:\n",
    "     def __init__(self,config:DataTransformationConfig):\n",
    "          self.config=config\n",
    "          \n",
    "     def train_test_splitting(self):\n",
    "          data=pd.read_csv(self.config.data_path)\n",
    "          train,test=train_test_split(data)\n",
    "          train.to_csv(os.path.join(self.config.root_dir,\"train.csv\"),index=False)\n",
    "          test.to_csv(os.path.join(self.config.root_dir,\"test.csv\"),index=False)"
   ]
  },
  {
   "cell_type": "code",
   "execution_count": 32,
   "metadata": {},
   "outputs": [
    {
     "name": "stdout",
     "output_type": "stream",
     "text": [
      "[2024-02-29 18:34:42,303: INFO: common: yaml file: config\\config.yaml loaded successfully]\n",
      "[2024-02-29 18:34:42,310: INFO: common: yaml file: params.yaml loaded successfully]\n",
      "[2024-02-29 18:34:42,319: INFO: common: yaml file: schema.yaml loaded successfully]\n",
      "[2024-02-29 18:34:42,321: INFO: common: created directory at: artifacts]\n",
      "[2024-02-29 18:34:42,323: INFO: common: created directory at: artifacts\\data_transformation]\n"
     ]
    }
   ],
   "source": [
    "try:\n",
    "     config=ConfrigurationManager()\n",
    "     data_tranformation_config=config.get_data_tansformation_config()\n",
    "     data_tranformation=DataTransformation(config=data_tranformation_config)\n",
    "     data_tranformation.train_test_splitting()\n",
    "except Exception as e:\n",
    "     raise e "
   ]
  },
  {
   "cell_type": "code",
   "execution_count": null,
   "metadata": {},
   "outputs": [],
   "source": []
  }
 ],
 "metadata": {
  "kernelspec": {
   "display_name": "Python 3",
   "language": "python",
   "name": "python3"
  },
  "language_info": {
   "codemirror_mode": {
    "name": "ipython",
    "version": 3
   },
   "file_extension": ".py",
   "mimetype": "text/x-python",
   "name": "python",
   "nbconvert_exporter": "python",
   "pygments_lexer": "ipython3",
   "version": "3.8.18"
  }
 },
 "nbformat": 4,
 "nbformat_minor": 2
}
