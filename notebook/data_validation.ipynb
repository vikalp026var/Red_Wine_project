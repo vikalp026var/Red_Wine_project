{
 "cells": [
  {
   "cell_type": "code",
   "execution_count": 1,
   "metadata": {},
   "outputs": [],
   "source": [
    "import os "
   ]
  },
  {
   "cell_type": "code",
   "execution_count": 2,
   "metadata": {},
   "outputs": [
    {
     "data": {
      "text/plain": [
       "'d:\\\\Red_Wine_project\\\\notebook'"
      ]
     },
     "execution_count": 2,
     "metadata": {},
     "output_type": "execute_result"
    }
   ],
   "source": [
    "%pwd"
   ]
  },
  {
   "cell_type": "code",
   "execution_count": 3,
   "metadata": {},
   "outputs": [],
   "source": [
    "os.chdir('../')"
   ]
  },
  {
   "cell_type": "code",
   "execution_count": 4,
   "metadata": {},
   "outputs": [
    {
     "data": {
      "text/plain": [
       "'d:\\\\Red_Wine_project'"
      ]
     },
     "execution_count": 4,
     "metadata": {},
     "output_type": "execute_result"
    }
   ],
   "source": [
    "%pwd"
   ]
  },
  {
   "cell_type": "code",
   "execution_count": 53,
   "metadata": {},
   "outputs": [],
   "source": [
    "from dataclasses import dataclass\n",
    "from pathlib import Path\n",
    "@dataclass(frozen=True)\n",
    "class DataValidationConfig:\n",
    "     root_dir: str\n",
    "     # logging.info(\"make the rrot _dir\")\n",
    "     data_dir: str\n",
    "     STATUS_FILE: str\n",
    "     all_schema: dict\n",
    "     "
   ]
  },
  {
   "cell_type": "code",
   "execution_count": 54,
   "metadata": {},
   "outputs": [],
   "source": [
    "from src.constants import *\n",
    "from src.utils.common import read_yaml,create_directories"
   ]
  },
  {
   "cell_type": "code",
   "execution_count": 68,
   "metadata": {},
   "outputs": [],
   "source": [
    "class ConfrigurationManager:\n",
    "     def __init__(self,\n",
    "                  config_filepath=CONFIG_PATH,\n",
    "                  params_filepath=PARAMS_PATH,\n",
    "                  schema_filepath=SCHEMA_PATH\n",
    "                  ):\n",
    "          self.config=read_yaml(config_filepath)\n",
    "          self.params=read_yaml(params_filepath)\n",
    "          self.schema=read_yaml(schema_filepath)\n",
    "          create_directories([Path(self.config['artifacts_root'])])\n",
    "          \n",
    "     def get_data_vaidation_config(self)->DataValidationConfig:\n",
    "          config=self.config.data_validation\n",
    "          schema=self.schema.COLUMNS\n",
    "          create_directories([Path(config['root_dir'])])\n",
    "          logging.info(\"Root dir is make \")\n",
    "          data_validation_config=DataValidationConfig(\n",
    "               root_dir= config.root_dir,\n",
    "               data_dir= config.data_dir,\n",
    "               STATUS_FILE= config.STATUS_FILE,\n",
    "               all_schema=schema,\n",
    "               \n",
    "          )\n",
    "          logging.info(\"....\")\n",
    "          return data_validation_config\n",
    "          "
   ]
  },
  {
   "cell_type": "code",
   "execution_count": 69,
   "metadata": {},
   "outputs": [],
   "source": [
    "import os \n",
    "import pandas as pd \n",
    "from src.logger.logging import logging"
   ]
  },
  {
   "cell_type": "code",
   "execution_count": 70,
   "metadata": {},
   "outputs": [],
   "source": [
    "class DataValidation:\n",
    "     def __init__(self,config:DataValidationConfig):\n",
    "          self.config=config\n",
    "          \n",
    "     def validate_all_columns(self)->bool:\n",
    "          try:\n",
    "               validation_status=None\n",
    "               data=pd.read_csv(self.config.data_dir)\n",
    "               all_cols=list(data.columns)\n",
    "               all_schema=self.config.all_schema.keys()\n",
    "               for col in all_cols:\n",
    "                    if col not in all_schema:\n",
    "                         validation_status=False\n",
    "                         with open(self.config.STATUS_FILE,'w') as f:\n",
    "                              f.write(f\"Validation status :{validation_status}\")\n",
    "                    else:\n",
    "                         validation_status=True\n",
    "                         with open(self.config.STATUS_FILE,'w') as f:\n",
    "                              f.write(f\"Validation status :{validation_status}\")\n",
    "               return validation_status\n",
    "          except Exception as e:\n",
    "               raise(e)"
   ]
  },
  {
   "cell_type": "code",
   "execution_count": 71,
   "metadata": {},
   "outputs": [
    {
     "name": "stdout",
     "output_type": "stream",
     "text": [
      "[2024-02-28 20:52:35,760: INFO: common: yaml file: config\\config.yaml loaded successfully]\n",
      "[2024-02-28 20:52:35,764: INFO: common: yaml file: params.yaml loaded successfully]\n",
      "[2024-02-28 20:52:35,769: INFO: common: yaml file: schema.yaml loaded successfully]\n",
      "[2024-02-28 20:52:35,770: INFO: common: created directory at: artifacts]\n",
      "[2024-02-28 20:52:35,772: INFO: common: created directory at: artifacts\\data_validation]\n",
      "[2024-02-28 20:52:35,774: INFO: 842129944: Root dir is make ]\n",
      "[2024-02-28 20:52:35,775: INFO: 842129944: ....]\n"
     ]
    },
    {
     "data": {
      "text/plain": [
       "True"
      ]
     },
     "execution_count": 71,
     "metadata": {},
     "output_type": "execute_result"
    }
   ],
   "source": [
    "config=ConfrigurationManager()\n",
    "data_validation_config=config.get_data_vaidation_config()\n",
    "data_validatin=DataValidation(data_validation_config)\n",
    "data_validatin.validate_all_columns()\n",
    "\n"
   ]
  },
  {
   "cell_type": "code",
   "execution_count": null,
   "metadata": {},
   "outputs": [],
   "source": []
  },
  {
   "cell_type": "code",
   "execution_count": null,
   "metadata": {},
   "outputs": [],
   "source": []
  },
  {
   "cell_type": "code",
   "execution_count": null,
   "metadata": {},
   "outputs": [],
   "source": []
  }
 ],
 "metadata": {
  "kernelspec": {
   "display_name": "Python 3",
   "language": "python",
   "name": "python3"
  },
  "language_info": {
   "codemirror_mode": {
    "name": "ipython",
    "version": 3
   },
   "file_extension": ".py",
   "mimetype": "text/x-python",
   "name": "python",
   "nbconvert_exporter": "python",
   "pygments_lexer": "ipython3",
   "version": "3.8.18"
  }
 },
 "nbformat": 4,
 "nbformat_minor": 2
}
