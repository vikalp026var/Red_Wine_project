{
 "cells": [
  {
   "cell_type": "code",
   "execution_count": 1,
   "metadata": {},
   "outputs": [],
   "source": [
    "import os "
   ]
  },
  {
   "cell_type": "code",
   "execution_count": 2,
   "metadata": {},
   "outputs": [
    {
     "data": {
      "text/plain": [
       "'d:\\\\Red_Wine_project\\\\notebook'"
      ]
     },
     "execution_count": 2,
     "metadata": {},
     "output_type": "execute_result"
    }
   ],
   "source": [
    "%pwd"
   ]
  },
  {
   "cell_type": "code",
   "execution_count": 3,
   "metadata": {},
   "outputs": [],
   "source": [
    "os.chdir(\"../\")"
   ]
  },
  {
   "cell_type": "code",
   "execution_count": 4,
   "metadata": {},
   "outputs": [
    {
     "data": {
      "text/plain": [
       "'d:\\\\Red_Wine_project'"
      ]
     },
     "execution_count": 4,
     "metadata": {},
     "output_type": "execute_result"
    }
   ],
   "source": [
    "%pwd"
   ]
  },
  {
   "cell_type": "code",
   "execution_count": null,
   "metadata": {},
   "outputs": [],
   "source": []
  },
  {
   "cell_type": "code",
   "execution_count": 5,
   "metadata": {},
   "outputs": [],
   "source": [
    "from dataclasses import dataclass\n",
    "from pathlib import Path \n",
    "@dataclass(frozen=True)\n",
    "class DataIngestionConfig:\n",
    "     root_dir: Path\n",
    "     source_URL: str\n",
    "     "
   ]
  },
  {
   "cell_type": "code",
   "execution_count": 6,
   "metadata": {},
   "outputs": [],
   "source": [
    "from src.constants import *\n",
    "from src.utils.common import read_yaml,create_directories"
   ]
  },
  {
   "cell_type": "code",
   "execution_count": 7,
   "metadata": {},
   "outputs": [],
   "source": [
    "class ConfrigurationManager:\n",
    "     def __init__(self,\n",
    "                  config_filepath=CONFIG_PATH,\n",
    "                  params_filepath=PARAMS_PATH,\n",
    "                  schema_filepath=SCHEMA_PATH\n",
    "                  ):\n",
    "          self.config=read_yaml(config_filepath)\n",
    "          self.params=read_yaml(params_filepath)\n",
    "          self.schema=read_yaml(schema_filepath)\n",
    "          create_directories([Path(self.config['artifacts_root'])])\n",
    "          \n",
    "     def get_data_ingestion_config(self)->DataIngestionConfig:\n",
    "          config=self.config.data_ingestion\n",
    "          create_directories([Path(config['root_dir'])])\n",
    "          data_ingestion_config=DataIngestionConfig(\n",
    "               root_dir=config.root_dir,\n",
    "               source_URL=config.source_URL\n",
    "          )\n",
    "          return data_ingestion_config\n",
    "          \n",
    "          "
   ]
  },
  {
   "cell_type": "code",
   "execution_count": 8,
   "metadata": {},
   "outputs": [],
   "source": [
    "import os \n",
    "import pandas as pd \n",
    "from src.utils.common import get_size"
   ]
  },
  {
   "cell_type": "code",
   "execution_count": 11,
   "metadata": {},
   "outputs": [],
   "source": [
    "class DataIngestion:\n",
    "     def __init__(self,config: DataIngestionConfig):\n",
    "          self.config=config\n",
    "          \n",
    "          \n",
    "     def get_data(self):\n",
    "          data=pd.read_csv(self.config.source_URL,sep=',')\n",
    "          \n",
    "          return data\n",
    "     def save_file(self,data):\n",
    "          save_path = os.path.join(self.config.root_dir, 'winequality-red.csv')\n",
    "          data.to_csv(save_path, index=False)\n",
    "          # data.to_csv(self.config.root_dir)\n",
    "          "
   ]
  },
  {
   "cell_type": "code",
   "execution_count": 19,
   "metadata": {},
   "outputs": [
    {
     "name": "stdout",
     "output_type": "stream",
     "text": [
      "[2024-02-28 19:56:13,198: INFO: common: yaml file: config\\config.yaml loaded successfully]\n",
      "[2024-02-28 19:56:13,200: INFO: common: yaml file: params.yaml loaded successfully]\n",
      "[2024-02-28 19:56:13,206: INFO: common: yaml file: schema.yaml loaded successfully]\n",
      "[2024-02-28 19:56:13,208: INFO: common: created directory at: artifacts]\n",
      "[2024-02-28 19:56:13,211: INFO: common: created directory at: artifacts\\data_ingestion]\n"
     ]
    }
   ],
   "source": [
    "config=ConfrigurationManager()\n",
    "data_ingestion_config=config.get_data_ingestion_config()\n",
    "data_ingestion=DataIngestion(data_ingestion_config)\n",
    "data=data_ingestion.get_data()\n",
    "data_ingestion.save_file(data)"
   ]
  },
  {
   "cell_type": "code",
   "execution_count": 20,
   "metadata": {},
   "outputs": [],
   "source": [
    "# pd.read_csv(\"https://raw.githubusercontent.com/vikalp026var/Red_Wine_project/main/notebook/winequality-red.csv\",sep=',',)"
   ]
  },
  {
   "cell_type": "code",
   "execution_count": null,
   "metadata": {},
   "outputs": [],
   "source": []
  }
 ],
 "metadata": {
  "kernelspec": {
   "display_name": "Python 3",
   "language": "python",
   "name": "python3"
  },
  "language_info": {
   "codemirror_mode": {
    "name": "ipython",
    "version": 3
   },
   "file_extension": ".py",
   "mimetype": "text/x-python",
   "name": "python",
   "nbconvert_exporter": "python",
   "pygments_lexer": "ipython3",
   "version": "3.8.18"
  }
 },
 "nbformat": 4,
 "nbformat_minor": 2
}
