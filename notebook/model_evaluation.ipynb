{
 "cells": [
  {
   "cell_type": "code",
   "execution_count": 1,
   "metadata": {},
   "outputs": [],
   "source": [
    "import os "
   ]
  },
  {
   "cell_type": "code",
   "execution_count": 2,
   "metadata": {},
   "outputs": [
    {
     "data": {
      "text/plain": [
       "'d:\\\\Red_Wine_project\\\\notebook'"
      ]
     },
     "execution_count": 2,
     "metadata": {},
     "output_type": "execute_result"
    }
   ],
   "source": [
    "%pwd"
   ]
  },
  {
   "cell_type": "code",
   "execution_count": 3,
   "metadata": {},
   "outputs": [],
   "source": [
    "os.chdir('../')"
   ]
  },
  {
   "cell_type": "code",
   "execution_count": 4,
   "metadata": {},
   "outputs": [
    {
     "data": {
      "text/plain": [
       "'d:\\\\Red_Wine_project'"
      ]
     },
     "execution_count": 4,
     "metadata": {},
     "output_type": "execute_result"
    }
   ],
   "source": [
    "%pwd"
   ]
  },
  {
   "cell_type": "code",
   "execution_count": 5,
   "metadata": {},
   "outputs": [],
   "source": [
    "from dataclasses import dataclass\n",
    "from pathlib import Path"
   ]
  },
  {
   "cell_type": "code",
   "execution_count": 6,
   "metadata": {},
   "outputs": [],
   "source": [
    "@dataclass(frozen=True)\n",
    "class ModelEvaluationConfig:\n",
    "     root_dir: Path\n",
    "     test_data_path: Path \n",
    "     model_path: Path \n",
    "     all_params: dict \n",
    "     metric_file_name: Path \n",
    "     target_column: str\n"
   ]
  },
  {
   "cell_type": "code",
   "execution_count": 7,
   "metadata": {},
   "outputs": [],
   "source": [
    "from src.constants import *\n",
    "from src.utils.common import read_yaml,create_directories"
   ]
  },
  {
   "cell_type": "code",
   "execution_count": 18,
   "metadata": {},
   "outputs": [],
   "source": [
    "class ConfigurationManager:\n",
    "    def __init__(\n",
    "        self,\n",
    "        config_filepath = CONFIG_PATH,\n",
    "        params_filepath = PARAMS_PATH,\n",
    "        schema_filepath = SCHEMA_PATH):\n",
    "\n",
    "        self.config = read_yaml(config_filepath)\n",
    "        self.params = read_yaml(params_filepath)\n",
    "        self.schema = read_yaml(schema_filepath)\n",
    "\n",
    "        create_directories([self.config.artifacts_root])\n",
    "\n",
    "\n",
    "    \n",
    "    def get_model_evaluation_config(self)-> ModelEvaluationConfig:\n",
    "        config=self.config.model_evaluation\n",
    "        params=self.params.ElasticNet\n",
    "        schema=self.schema.TARGET_COLUMN\n",
    "        create_directories([config.root_dir])\n",
    "        model_evaluation_config=ModelEvaluationConfig(\n",
    "            root_dir=config.root_dir,\n",
    "            test_data_path=config.test_data_path,\n",
    "            model_path=config.model_path,\n",
    "            all_params=params,\n",
    "            metric_file_name=config.metric_file_json,\n",
    "            target_column=schema.name\n",
    "        )\n",
    "        return model_evaluation_config"
   ]
  },
  {
   "cell_type": "code",
   "execution_count": 19,
   "metadata": {},
   "outputs": [],
   "source": [
    "import os \n",
    "import pandas as pd \n",
    "from sklearn.metrics import mean_squared_error,mean_absolute_error,r2_score\n",
    "from urllib.parse import urlparse\n",
    "import numpy as np \n",
    "import joblib\n",
    "from src.utils.common import save_json"
   ]
  },
  {
   "cell_type": "code",
   "execution_count": 20,
   "metadata": {},
   "outputs": [],
   "source": [
    "class ModelEvaluation:\n",
    "     def __init__(self,config: ModelEvaluationConfig):\n",
    "          self.config=config\n",
    "          \n",
    "     def eval_metrics(self,actual,pred):\n",
    "          rmse=np.sqrt(mean_squared_error(actual,pred))\n",
    "          mae=mean_absolute_error(actual,pred)\n",
    "          r2=r2_score(actual,pred)\n",
    "          return rmse,mae,r2\n",
    "     \n",
    "     def  save_result(self):\n",
    "          test_data=pd.read_csv(self.config.test_data_path)\n",
    "          model=joblib.load(self.config.model_path)\n",
    "          test_x=test_data.drop([self.config.target_column],axis=1)\n",
    "          test_y=test_data[[self.config.target_column]]\n",
    "          predicted_qualities=model.predict(test_x)\n",
    "          (rmse,mae,r2)=self.eval_metrics(test_y,predicted_qualities)\n",
    "          scored={\"rmse\":rmse,\"mae\":mae,\"r2\":r2}\n",
    "          save_json(path=Path(self.config.metric_file_name),data=scored)\n",
    "          "
   ]
  },
  {
   "cell_type": "code",
   "execution_count": 21,
   "metadata": {},
   "outputs": [
    {
     "name": "stdout",
     "output_type": "stream",
     "text": [
      "[2024-03-01 19:29:01,487: INFO: common: yaml file: config\\config.yaml loaded successfully]\n",
      "[2024-03-01 19:29:01,490: INFO: common: yaml file: params.yaml loaded successfully]\n",
      "[2024-03-01 19:29:01,493: INFO: common: yaml file: schema.yaml loaded successfully]\n",
      "[2024-03-01 19:29:01,495: INFO: common: created directory at: artifacts]\n",
      "[2024-03-01 19:29:01,496: INFO: common: created directory at: artifacts/model_evaluation]\n",
      "[2024-03-01 19:29:02,328: INFO: common: json file saved at: artifacts\\model_evaluation\\metrics.json]\n"
     ]
    }
   ],
   "source": [
    "try:\n",
    "     config=ConfigurationManager()\n",
    "     model_evaluation_config=config.get_model_evaluation_config()\n",
    "     model_evaluation_config=ModelEvaluation(config=model_evaluation_config)\n",
    "     model_evaluation_config.save_result()\n",
    "except Exception as e:\n",
    "     raise e"
   ]
  },
  {
   "cell_type": "code",
   "execution_count": null,
   "metadata": {},
   "outputs": [],
   "source": []
  }
 ],
 "metadata": {
  "kernelspec": {
   "display_name": "Python 3",
   "language": "python",
   "name": "python3"
  },
  "language_info": {
   "codemirror_mode": {
    "name": "ipython",
    "version": 3
   },
   "file_extension": ".py",
   "mimetype": "text/x-python",
   "name": "python",
   "nbconvert_exporter": "python",
   "pygments_lexer": "ipython3",
   "version": "3.8.18"
  }
 },
 "nbformat": 4,
 "nbformat_minor": 2
}
